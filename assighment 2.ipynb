{
 "cells": [
  {
   "cell_type": "code",
   "execution_count": 1,
   "id": "da742a4e-b060-4634-9a2e-3f2d08838bba",
   "metadata": {},
   "outputs": [
    {
     "name": "stdout",
     "output_type": "stream",
     "text": [
      "[1, 3, 5, 7, 9, 11, 13, 15, 17, 19, 21, 23, 25]\n"
     ]
    }
   ],
   "source": [
    "#(1)  The keyword used to create a function in Python is def. Here is an example of how to create a function that returns a list of odd numbers in the range of 1 to 25:\n",
    "\n",
    "def odd_numbers():\n",
    "    odds = []\n",
    "    for num in range(1, 26):\n",
    "        if num % 2 != 0:\n",
    "            odds.append(num)\n",
    "    return odds\n",
    "print(odd_numbers())\n"
   ]
  },
  {
   "cell_type": "code",
   "execution_count": 2,
   "id": "205a8892-ad75-4f44-b8e0-6671db213d0f",
   "metadata": {},
   "outputs": [
    {
     "name": "stdout",
     "output_type": "stream",
     "text": [
      "hello\n",
      "42\n",
      "[1, 2, 3]\n",
      "name: John\n",
      "age: 30\n",
      "city: New York\n"
     ]
    }
   ],
   "source": [
    "#(2)  In Python, *args and **kwargs are used as parameters in function definitions to allow a function to accept an arbitrary number of arguments or keyword arguments, respectively.\n",
    "#Here is an example of a function that uses *args:\n",
    "\n",
    "def print_args(*args):\n",
    "    for arg in args:\n",
    "        print(arg)\n",
    "print_args('hello', 42, [1, 2, 3])\n",
    "\n",
    "#Here is an example of a function that uses **kwargs:\n",
    "\n",
    "def print_kwargs(**kwargs):\n",
    "    for key, value in kwargs.items():\n",
    "        print(f\"{key}: {value}\")\n",
    "print_kwargs(name='John', age=30, city='New York')\n"
   ]
  },
  {
   "cell_type": "code",
   "execution_count": 3,
   "id": "abc75318-c7b6-4cd7-ab08-180ba9542712",
   "metadata": {},
   "outputs": [
    {
     "name": "stdout",
     "output_type": "stream",
     "text": [
      "2\n",
      "4\n",
      "6\n",
      "8\n",
      "10\n"
     ]
    }
   ],
   "source": [
    "#(3)  An iterator in Python is an object that allows us to iterate over a collection of data, such as a list or a dictionary, and retrieve the items one at a time. It provides a way to access the elements of an object sequentially without needing to know the underlying structure of the object.\n",
    "\n",
    "#Here is an example of how to use the iter() and next() functions to print the first five elements of the list [2, 4, 6, 8, 10, 12, 14, 16, 18, 20]:\n",
    "\n",
    "my_list = [2, 4, 6, 8, 10, 12, 14, 16, 18, 20]\n",
    "\n",
    "# create an iterator object using iter()\n",
    "my_iter = iter(my_list)\n",
    "\n",
    "# use the next() function to retrieve the first five elements\n",
    "for i in range(5):\n",
    "    print(next(my_iter))\n"
   ]
  },
  {
   "cell_type": "code",
   "execution_count": 5,
   "id": "9569949d-2870-4d52-9c37-7fb690b374d8",
   "metadata": {},
   "outputs": [
    {
     "name": "stdout",
     "output_type": "stream",
     "text": [
      "0\n",
      "1\n",
      "1\n",
      "2\n",
      "3\n",
      "5\n",
      "8\n",
      "13\n",
      "21\n",
      "34\n"
     ]
    }
   ],
   "source": [
    "#(4)  A generator function in Python is a special type of function that allows us to generate a sequence of values on the fly, rather than creating and storing the entire sequence in memory. This can be useful when dealing with large data sets, as it allows us to work with the data one element at a time, rather than all at once.\n",
    "\n",
    "def fibonacci(n):\n",
    "    a, b = 0, 1\n",
    "    for _ in range(n):\n",
    "        yield a\n",
    "        a, b = b, a + b\n",
    "for num in fibonacci(10):\n",
    "    print(num)\n"
   ]
  },
  {
   "cell_type": "code",
   "execution_count": 6,
   "id": "bf3fd5fe-a7bb-4e50-9454-cc22b445ae67",
   "metadata": {},
   "outputs": [
    {
     "name": "stdout",
     "output_type": "stream",
     "text": [
      "2\n",
      "3\n",
      "5\n",
      "7\n",
      "11\n",
      "13\n",
      "17\n",
      "19\n",
      "23\n",
      "29\n",
      "31\n",
      "37\n",
      "41\n",
      "43\n",
      "47\n",
      "53\n",
      "59\n",
      "61\n",
      "67\n",
      "71\n"
     ]
    }
   ],
   "source": [
    "#(5)  Here's an example of a generator function that generates prime numbers less than 1000:\n",
    "\n",
    "def prime_numbers():\n",
    "    primes = []\n",
    "    for num in range(2, 1000):\n",
    "        if all(num % i != 0 for i in range(2, int(num**0.5) + 1)):\n",
    "            primes.append(num)\n",
    "            yield num\n",
    "prime_gen = prime_numbers()\n",
    "for i in range(20):\n",
    "    print(next(prime_gen))\n"
   ]
  },
  {
   "cell_type": "code",
   "execution_count": 8,
   "id": "cfdafba0-97e9-41d9-a3c2-80f7283810ef",
   "metadata": {},
   "outputs": [
    {
     "name": "stdout",
     "output_type": "stream",
     "text": [
      "0\n",
      "1\n",
      "1\n",
      "2\n",
      "3\n",
      "5\n",
      "8\n",
      "13\n",
      "21\n",
      "34\n"
     ]
    }
   ],
   "source": [
    "#(6)  Here's an example program that uses a while loop to print the first 10 Fibonacci numbers:\n",
    "\n",
    "a, b = 0, 1\n",
    "count = 0\n",
    "\n",
    "while count < 10:\n",
    "    print(a)\n",
    "    a, b = b, a + b\n",
    "    count += 1\n"
   ]
  },
  {
   "cell_type": "code",
   "execution_count": 9,
   "id": "00ac0a50-33c5-4607-becf-3f03d39acf9c",
   "metadata": {},
   "outputs": [
    {
     "name": "stdout",
     "output_type": "stream",
     "text": [
      "['p', 'w', 's', 'k', 'l', 'l', 's']\n"
     ]
    }
   ],
   "source": [
    "#(7)  a list comprehension that iterates through the given string 'pwskills' and returns a list containing only the consonants:\n",
    "\n",
    "string = 'pwskills'\n",
    "consonants = [char for char in string if char not in 'aeiou']\n",
    "print(consonants)\n"
   ]
  },
  {
   "cell_type": "code",
   "execution_count": null,
   "id": "14d48200-9c4a-43f4-9f92-eebcf9f00ff9",
   "metadata": {},
   "outputs": [],
   "source": [
    "#(8)  a while loop to check whether a given number is a palindrome:\n",
    "\n",
    "num = int(input(\"Enter a number: \"))\n",
    "temp = num\n",
    "reverse = 0\n",
    "\n",
    "while temp > 0:\n",
    "    remainder = temp % 10\n",
    "    reverse = (reverse * 10) + remainder\n",
    "    temp //= 10\n",
    "\n",
    "if num == reverse:\n",
    "    print(num, \"is a palindrome\")\n",
    "else:\n",
    "    print(num, \"is not a palindrome\")\n"
   ]
  },
  {
   "cell_type": "code",
   "execution_count": null,
   "id": "ed0f654d-bc61-47fd-9be0-638d3ce8969e",
   "metadata": {},
   "outputs": [],
   "source": [
    "#"
   ]
  }
 ],
 "metadata": {
  "kernelspec": {
   "display_name": "Python 3 (ipykernel)",
   "language": "python",
   "name": "python3"
  },
  "language_info": {
   "codemirror_mode": {
    "name": "ipython",
    "version": 3
   },
   "file_extension": ".py",
   "mimetype": "text/x-python",
   "name": "python",
   "nbconvert_exporter": "python",
   "pygments_lexer": "ipython3",
   "version": "3.10.8"
  }
 },
 "nbformat": 4,
 "nbformat_minor": 5
}
